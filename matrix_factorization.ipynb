{
 "cells": [
  {
   "cell_type": "code",
   "execution_count": 61,
   "metadata": {},
   "outputs": [],
   "source": [
    "import numpy as np\n",
    "import matplotlib.pyplot as plt\n",
    "import itertools"
   ]
  },
  {
   "cell_type": "code",
   "execution_count": 33,
   "metadata": {},
   "outputs": [],
   "source": [
    "a = [[5,3,0,1,5],\n",
    "     [1,1,0,4,1],\n",
    "     [5,4,2,4,2],\n",
    "     [2,1,3,4,3],\n",
    "     [2,2,4,4,1]\n",
    "     ]\n",
    "a = np.array(a)\n",
    "u = len(a) #user\n",
    "m = len(a[0]) #movies\n",
    "k = 4\n",
    "\n",
    "p = np.random.rand(u,k) #user X latent feature\n",
    "q = np.random.rand(k,m) #latent feature X movies\n"
   ]
  },
  {
   "cell_type": "code",
   "execution_count": 94,
   "metadata": {},
   "outputs": [],
   "source": [
    "def optimize_parameters(a,p,q,alpha,beta,steps=5000):\n",
    "    # Function aims to optimize beta and alpha in gradient descent\n",
    "    # alpha is leanring rate\n",
    "    # beta is regularization parameter\n",
    "    \n",
    "    u = len(a)\n",
    "    m = len(a[0])\n",
    "    feat = len(p[0])\n",
    "    error_list = []\n",
    "    try:\n",
    "        for step in range(steps):\n",
    "            \n",
    "            for i in range(u):\n",
    "                for j in range(m):\n",
    "                    if a[i][j]>0:\n",
    "                        err = a[i][j] - np.dot(p[i,:],q[:,j])\n",
    "                        for k in range(feat):\n",
    "                            \n",
    "                            p[i][k] = p[i][k] +alpha * (2* err * q[k][j] - beta* p[i][k])\n",
    "                            q[k][j] = q[k][j] +alpha * (2* err * p[i][k] - beta* q[k][j])\n",
    "\n",
    "            e=0\n",
    "            for i in range(u):\n",
    "                for j in range(m):       \n",
    "                    if a[i][j]>0:\n",
    "                        e = e +abs(a[i][j] - np.dot(p[i,:],q[:,j]))\n",
    "                        for k in range(feat):\n",
    "                            e = e + (beta/2) * (pow(p[i][k],2) + pow(q[k][j],2))\n",
    "            error_list.append(e)\n",
    "            if e <0.001:\n",
    "                break\n",
    "        \n",
    "            \n",
    "        return min(error_list)\n",
    "    except Exception as e:\n",
    "        print(e)"
   ]
  },
  {
   "cell_type": "code",
   "execution_count": 97,
   "metadata": {},
   "outputs": [],
   "source": [
    "#Grid search to optimize alpha and beta\n",
    "alphas = [0.001,0.002,0.003,0.004,0.005,0.006,0.007,0.0001]\n",
    "betas = [0.02,0.03,0.04,0.05,0.06]\n",
    "parameters = itertools.product(alphas,betas)\n",
    "tupp =[]\n",
    "min_err =1000\n",
    "min_a =0\n",
    "min_b=0\n",
    "for para in parameters:\n",
    "    err = optimize_parameters(a,p,q,para[0],para[1])\n",
    "    if min_err>err:\n",
    "        min_err =err\n",
    "        min_a = para[0]\n",
    "        min_b=para[1]\n",
    "\n",
    "    tupp.append([para[0],para[1],err])\n",
    "\n",
    "\n"
   ]
  },
  {
   "cell_type": "code",
   "execution_count": 96,
   "metadata": {},
   "outputs": [
    {
     "data": {
      "text/plain": [
       "(2.585819814779013, 0.007, 0.02)"
      ]
     },
     "execution_count": 96,
     "metadata": {},
     "output_type": "execute_result"
    }
   ],
   "source": [
    "min_err,min_a,min_b"
   ]
  },
  {
   "cell_type": "code",
   "execution_count": null,
   "metadata": {},
   "outputs": [],
   "source": [
    "def matrix_factor(a,p,q,alpha = 0.002,beta = 0.02,min_err=0.001,steps=5000):\n",
    "    # function is to derive p, q arrayw with optimized value of alpha and beta\n",
    "    u = len(a)\n",
    "    m = len(a[0])\n",
    "    feat = len(p[0])\n",
    "    error_list = []\n",
    "    try:\n",
    "        for step in range(steps):\n",
    "            \n",
    "            for i in range(u):\n",
    "                for j in range(m):\n",
    "                    if a[i][j]>0:\n",
    "                        err = a[i][j] - np.dot(p[i,:],q[:,j])\n",
    "                        for k in range(feat):\n",
    "                            \n",
    "                            p[i][k] = p[i][k] +alpha * (2* err * q[k][j] - beta* p[i][k])\n",
    "                            q[k][j] = q[k][j] +alpha * (2* err * p[i][k] - beta* q[k][j])\n",
    "\n",
    "            e=0\n",
    "            for i in range(u):\n",
    "                for j in range(m):       \n",
    "                    if a[i][j]>0:\n",
    "                        e = e +pow(a[i][j] - np.dot(p[i,:],q[:,j]) ,2)\n",
    "                        for k in range(feat):\n",
    "                            e = e + (beta/2) * (pow(p[i][k],2) + pow(q[k][j],2))\n",
    "            error_list.append(e)\n",
    "            if e <=min_err:\n",
    "                break\n",
    "        \n",
    "            \n",
    "        return p,q\n",
    "    except Exception as e:\n",
    "        print(e)\n",
    "\n",
    "\n",
    "\n",
    "\n",
    "        \n",
    "new_p,new_q = matrix_factor(a,p,q,min_a,min_b,min_err)"
   ]
  },
  {
   "cell_type": "code",
   "execution_count": null,
   "metadata": {},
   "outputs": [
    {
     "data": {
      "text/plain": [
       "array([[4.98984584, 2.97882085, 0.38600446, 1.01471718, 4.96409076],\n",
       "       [1.04160907, 0.96450896, 3.44350054, 3.9743758 , 0.98483101],\n",
       "       [4.96790291, 3.97671814, 2.01069467, 3.97768127, 2.01153839],\n",
       "       [1.98104552, 1.03679101, 2.99515062, 3.97291501, 2.98004135],\n",
       "       [1.98272066, 1.99901212, 3.96305231, 3.99820951, 1.01034647]])"
      ]
     },
     "execution_count": 88,
     "metadata": {},
     "output_type": "execute_result"
    }
   ],
   "source": [
    "np.dot(new_p ,new_q)"
   ]
  },
  {
   "cell_type": "code",
   "execution_count": null,
   "metadata": {},
   "outputs": [
    {
     "data": {
      "text/plain": [
       "array([[5, 3, 0, 1, 5],\n",
       "       [1, 1, 0, 4, 1],\n",
       "       [5, 4, 2, 4, 2],\n",
       "       [2, 1, 3, 4, 3],\n",
       "       [2, 2, 4, 4, 1]])"
      ]
     },
     "execution_count": 89,
     "metadata": {},
     "output_type": "execute_result"
    }
   ],
   "source": [
    "a"
   ]
  },
  {
   "cell_type": "code",
   "execution_count": null,
   "metadata": {},
   "outputs": [],
   "source": []
  }
 ],
 "metadata": {
  "kernelspec": {
   "display_name": "Python 3",
   "language": "python",
   "name": "python3"
  },
  "language_info": {
   "codemirror_mode": {
    "name": "ipython",
    "version": 3
   },
   "file_extension": ".py",
   "mimetype": "text/x-python",
   "name": "python",
   "nbconvert_exporter": "python",
   "pygments_lexer": "ipython3",
   "version": "3.10.4"
  },
  "orig_nbformat": 4
 },
 "nbformat": 4,
 "nbformat_minor": 2
}
